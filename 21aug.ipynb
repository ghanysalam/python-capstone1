{
 "cells": [
  {
   "cell_type": "code",
   "execution_count": 2,
   "metadata": {},
   "outputs": [
    {
     "name": "stdout",
     "output_type": "stream",
     "text": [
      "[[[1 2 3]\n",
      "  [4 5 6]]\n",
      "\n",
      " [[4 5 6]\n",
      "  [7 8 9]]\n",
      "\n",
      " [[7 8 9]\n",
      "  [1 2 3]]]\n",
      "(3, 2, 3)\n"
     ]
    },
    {
     "data": {
      "text/plain": [
       "array([[[1, 2, 3],\n",
       "        [4, 5, 6],\n",
       "        [4, 5, 6]],\n",
       "\n",
       "       [[7, 8, 9],\n",
       "        [7, 8, 9],\n",
       "        [1, 2, 3]]])"
      ]
     },
     "execution_count": 2,
     "metadata": {},
     "output_type": "execute_result"
    }
   ],
   "source": [
    "import numpy as np\n",
    "\n",
    "mylist_3d = [[1,2,3],[4,5,6]],[[4,5,6],[7,8,9]],[[7,8,9],[1,2,3]]\n",
    "arr_3d = np.array(mylist_3d)\n",
    "print(arr_3d)\n",
    "\n",
    "print(arr_3d.shape)\n",
    "\n",
    "arr_3d.reshape(2,3,3)"
   ]
  },
  {
   "cell_type": "code",
   "execution_count": 20,
   "metadata": {},
   "outputs": [
    {
     "name": "stdout",
     "output_type": "stream",
     "text": [
      "[[[11 59 67]\n",
      "  [18 80 70]]\n",
      "\n",
      " [[ 0 30 71]\n",
      "  [86 88 50]]]\n"
     ]
    }
   ],
   "source": [
    "tes = np.random.randint(0, 100, size = (2,2,3))\n",
    "print(tes)\n"
   ]
  },
  {
   "cell_type": "code",
   "execution_count": 28,
   "metadata": {},
   "outputs": [
    {
     "name": "stdout",
     "output_type": "stream",
     "text": [
      "[[[7 1 7]]\n",
      "\n",
      " [[1 6 9]]\n",
      "\n",
      " [[7 3 0]]\n",
      "\n",
      " [[0 4 0]]\n",
      "\n",
      " [[9 1 8]]\n",
      "\n",
      " [[5 3 2]]]\n"
     ]
    },
    {
     "data": {
      "text/plain": [
       "array([[[7, 1, 7],\n",
       "        [1, 6, 9]],\n",
       "\n",
       "       [[7, 3, 0],\n",
       "        [0, 4, 0]],\n",
       "\n",
       "       [[9, 1, 8],\n",
       "        [5, 3, 2]]])"
      ]
     },
     "execution_count": 28,
     "metadata": {},
     "output_type": "execute_result"
    }
   ],
   "source": [
    "misal = np.random.randint(0, 10, size = (6,1,3))\n",
    "print(misal)\n",
    "\n",
    "misal.reshape(3, 2, 3)"
   ]
  },
  {
   "cell_type": "code",
   "execution_count": 31,
   "metadata": {},
   "outputs": [
    {
     "data": {
      "text/plain": [
       "array([[[7, 1, 7, 1, 6, 9]],\n",
       "\n",
       "       [[7, 3, 0, 0, 4, 0]],\n",
       "\n",
       "       [[9, 1, 8, 5, 3, 2]]])"
      ]
     },
     "execution_count": 31,
     "metadata": {},
     "output_type": "execute_result"
    }
   ],
   "source": [
    "misal.reshape(3, 1, 6)"
   ]
  },
  {
   "cell_type": "code",
   "execution_count": 34,
   "metadata": {},
   "outputs": [
    {
     "name": "stdout",
     "output_type": "stream",
     "text": [
      "[[[1 2 3]\n",
      "  [4 5 6]]\n",
      "\n",
      " [[4 5 6]\n",
      "  [7 8 9]]\n",
      "\n",
      " [[7 8 9]\n",
      "  [1 2 3]]]\n"
     ]
    }
   ],
   "source": [
    "mylist_3d = [[1,2,3],[4,5,6]],[[4,5,6],[7,8,9]],[[7,8,9],[1,2,3]]\n",
    "array_3d = np.array(mylist_3d)\n",
    "print(arr_3d)"
   ]
  },
  {
   "cell_type": "code",
   "execution_count": 37,
   "metadata": {},
   "outputs": [
    {
     "data": {
      "text/plain": [
       "array([[4, 5, 6],\n",
       "       [7, 8, 9]])"
      ]
     },
     "execution_count": 37,
     "metadata": {},
     "output_type": "execute_result"
    }
   ],
   "source": [
    "array_3d[1]"
   ]
  },
  {
   "cell_type": "code",
   "execution_count": 38,
   "metadata": {},
   "outputs": [
    {
     "data": {
      "text/plain": [
       "array([4, 5, 6])"
      ]
     },
     "execution_count": 38,
     "metadata": {},
     "output_type": "execute_result"
    }
   ],
   "source": [
    "array_3d[1][0]"
   ]
  },
  {
   "cell_type": "code",
   "execution_count": 44,
   "metadata": {},
   "outputs": [
    {
     "data": {
      "text/plain": [
       "array([[[  1,   2,   3],\n",
       "        [  4,   5,   6]],\n",
       "\n",
       "       [[  4, 100, 100],\n",
       "        [  7,   8,   9]],\n",
       "\n",
       "       [[  7,   8,   9],\n",
       "        [  1,   2,   3]]])"
      ]
     },
     "execution_count": 44,
     "metadata": {},
     "output_type": "execute_result"
    }
   ],
   "source": [
    "array_3d"
   ]
  },
  {
   "cell_type": "code",
   "execution_count": 48,
   "metadata": {},
   "outputs": [
    {
     "name": "stdout",
     "output_type": "stream",
     "text": [
      "[[[  1   2   3]\n",
      "  [  4   5   6]]\n",
      "\n",
      " [[  4   5 100]\n",
      "  [  7   8   9]]\n",
      "\n",
      " [[  7   8   9]\n",
      "  [  1   2   3]]]\n"
     ]
    }
   ],
   "source": [
    "array_3d[1][0][2] = 100\n",
    "print(array_3d)"
   ]
  },
  {
   "cell_type": "code",
   "execution_count": 54,
   "metadata": {},
   "outputs": [
    {
     "name": "stdout",
     "output_type": "stream",
     "text": [
      "[[[  1   2   3]\n",
      "  [  4   5   6]]\n",
      "\n",
      " [[300 200 100]\n",
      "  [  7   8   9]]\n",
      "\n",
      " [[  7   8   9]\n",
      "  [  1   2   3]]]\n"
     ]
    }
   ],
   "source": [
    "array_3d[1][0][0:2] = [300,200]\n",
    "print(array_3d)"
   ]
  },
  {
   "cell_type": "code",
   "execution_count": 58,
   "metadata": {},
   "outputs": [
    {
     "name": "stdout",
     "output_type": "stream",
     "text": [
      "[[[100 100 100]\n",
      "  [100 100 100]]\n",
      "\n",
      " [[100 100 100]\n",
      "  [100 100 100]]\n",
      "\n",
      " [[  7   8   9]\n",
      "  [  1   2   3]]]\n"
     ]
    }
   ],
   "source": [
    "array_3d[0:2][0:2][0:2] = 100\n",
    "print(array_3d)"
   ]
  },
  {
   "cell_type": "code",
   "execution_count": 59,
   "metadata": {},
   "outputs": [
    {
     "name": "stdout",
     "output_type": "stream",
     "text": [
      "[[[34 47 36]\n",
      "  [17 38 11]]\n",
      "\n",
      " [[18 27 49]\n",
      "  [43 48  1]]\n",
      "\n",
      " [[46 27 23]\n",
      "  [25 46 15]]]\n"
     ]
    }
   ],
   "source": [
    "test = np.random.randint(0,50, size = (3, 2, 3))\n",
    "print(test)"
   ]
  },
  {
   "cell_type": "code",
   "execution_count": 60,
   "metadata": {},
   "outputs": [
    {
     "name": "stdout",
     "output_type": "stream",
     "text": [
      "[[[34  1 36]\n",
      "  [17 38 11]]\n",
      "\n",
      " [[18 27 49]\n",
      "  [43 48  1]]\n",
      "\n",
      " [[46 27 23]\n",
      "  [25 46 15]]]\n"
     ]
    }
   ],
   "source": [
    "test[0][0][1] = 1\n",
    "print(test)"
   ]
  },
  {
   "cell_type": "code",
   "execution_count": 61,
   "metadata": {},
   "outputs": [
    {
     "name": "stdout",
     "output_type": "stream",
     "text": [
      "[[[34  1 36]\n",
      "  [17 38 11]]\n",
      "\n",
      " [[18 27 49]\n",
      "  [43 48  1]]\n",
      "\n",
      " [[46 27 23]\n",
      "  [25 46  1]]]\n"
     ]
    }
   ],
   "source": [
    "test[2][1][2] = 1\n",
    "print(test)"
   ]
  },
  {
   "cell_type": "code",
   "execution_count": 64,
   "metadata": {},
   "outputs": [
    {
     "name": "stdout",
     "output_type": "stream",
     "text": [
      "[[[6 6 7]\n",
      "  [0 0 7]\n",
      "  [0 6 0]]\n",
      "\n",
      " [[6 7 0]\n",
      "  [8 1 7]\n",
      "  [7 4 6]]\n",
      "\n",
      " [[6 9 2]\n",
      "  [3 8 7]\n",
      "  [3 8 1]]]\n"
     ]
    }
   ],
   "source": [
    "misal = np.random.randint(0, 10, size = (3,3,3))\n",
    "print(misal)"
   ]
  },
  {
   "cell_type": "code",
   "execution_count": 67,
   "metadata": {},
   "outputs": [
    {
     "name": "stdout",
     "output_type": "stream",
     "text": [
      "[[[5 9 7]\n",
      "  [9 7 3]\n",
      "  [5 9 0]]\n",
      "\n",
      " [[0 3 1]\n",
      "  [6 8 8]\n",
      "  [2 6 0]]\n",
      "\n",
      " [[1 8 6]\n",
      "  [8 9 0]\n",
      "  [0 1 9]]]\n"
     ]
    }
   ],
   "source": [
    "misal2 = np.random.randint(0, 10, size = (3,3,3))\n",
    "print(misal2)"
   ]
  },
  {
   "cell_type": "code",
   "execution_count": 68,
   "metadata": {},
   "outputs": [
    {
     "data": {
      "text/plain": [
       "array([[[30, 54, 49],\n",
       "        [ 0,  0, 21],\n",
       "        [ 0, 54,  0]],\n",
       "\n",
       "       [[ 0, 21,  0],\n",
       "        [48,  8, 56],\n",
       "        [14, 24,  0]],\n",
       "\n",
       "       [[ 6, 72, 12],\n",
       "        [24, 72,  0],\n",
       "        [ 0,  8,  9]]])"
      ]
     },
     "execution_count": 68,
     "metadata": {},
     "output_type": "execute_result"
    }
   ],
   "source": [
    "misal * misal2"
   ]
  },
  {
   "cell_type": "code",
   "execution_count": 69,
   "metadata": {},
   "outputs": [
    {
     "data": {
      "text/plain": [
       "array([[[2.44948974, 2.44948974, 2.64575131],\n",
       "        [0.        , 0.        , 2.64575131],\n",
       "        [0.        , 2.44948974, 0.        ]],\n",
       "\n",
       "       [[2.44948974, 2.64575131, 0.        ],\n",
       "        [2.82842712, 1.        , 2.64575131],\n",
       "        [2.64575131, 2.        , 2.44948974]],\n",
       "\n",
       "       [[2.44948974, 3.        , 1.41421356],\n",
       "        [1.73205081, 2.82842712, 2.64575131],\n",
       "        [1.73205081, 2.82842712, 1.        ]]])"
      ]
     },
     "execution_count": 69,
     "metadata": {},
     "output_type": "execute_result"
    }
   ],
   "source": [
    "np.sqrt(misal)"
   ]
  },
  {
   "cell_type": "code",
   "execution_count": 70,
   "metadata": {},
   "outputs": [
    {
     "data": {
      "text/plain": [
       "array([[[36, 36, 49],\n",
       "        [ 0,  0, 49],\n",
       "        [ 0, 36,  0]],\n",
       "\n",
       "       [[36, 49,  0],\n",
       "        [64,  1, 49],\n",
       "        [49, 16, 36]],\n",
       "\n",
       "       [[36, 81,  4],\n",
       "        [ 9, 64, 49],\n",
       "        [ 9, 64,  1]]], dtype=int32)"
      ]
     },
     "execution_count": 70,
     "metadata": {},
     "output_type": "execute_result"
    }
   ],
   "source": [
    "np.power(misal, 2)"
   ]
  },
  {
   "cell_type": "code",
   "execution_count": 71,
   "metadata": {},
   "outputs": [
    {
     "data": {
      "text/plain": [
       "array([[[False, False, False],\n",
       "        [ True,  True, False],\n",
       "        [ True, False,  True]],\n",
       "\n",
       "       [[False, False,  True],\n",
       "        [False,  True, False],\n",
       "        [False, False, False]],\n",
       "\n",
       "       [[False, False,  True],\n",
       "        [ True, False, False],\n",
       "        [ True, False,  True]]])"
      ]
     },
     "execution_count": 71,
     "metadata": {},
     "output_type": "execute_result"
    }
   ],
   "source": [
    "misal < 4"
   ]
  },
  {
   "cell_type": "code",
   "execution_count": 72,
   "metadata": {},
   "outputs": [
    {
     "data": {
      "text/plain": [
       "array([8, 9, 8, 8])"
      ]
     },
     "execution_count": 72,
     "metadata": {},
     "output_type": "execute_result"
    }
   ],
   "source": [
    "misal[misal > 7]"
   ]
  },
  {
   "cell_type": "code",
   "execution_count": 74,
   "metadata": {},
   "outputs": [],
   "source": [
    "misal1 = np.random.randint(0, 10, size = (2,4))\n",
    "misal2 = np.random.randint(0, 10, size = (2,4))"
   ]
  },
  {
   "cell_type": "code",
   "execution_count": 75,
   "metadata": {},
   "outputs": [
    {
     "name": "stdout",
     "output_type": "stream",
     "text": [
      "[[1 2 7 4]\n",
      " [7 9 6 6]]\n"
     ]
    }
   ],
   "source": [
    "print(misal1)"
   ]
  },
  {
   "cell_type": "code",
   "execution_count": 76,
   "metadata": {},
   "outputs": [
    {
     "name": "stdout",
     "output_type": "stream",
     "text": [
      "[[9 1 1 9]\n",
      " [5 9 0 1]]\n"
     ]
    }
   ],
   "source": [
    "print(misal2)"
   ]
  },
  {
   "cell_type": "code",
   "execution_count": 77,
   "metadata": {},
   "outputs": [
    {
     "data": {
      "text/plain": [
       "array([[1, 2, 7, 4, 9, 1, 1, 9],\n",
       "       [7, 9, 6, 6, 5, 9, 0, 1]])"
      ]
     },
     "execution_count": 77,
     "metadata": {},
     "output_type": "execute_result"
    }
   ],
   "source": [
    "np.concatenate((misal1,misal2), axis = 1 )"
   ]
  },
  {
   "cell_type": "code",
   "execution_count": 78,
   "metadata": {},
   "outputs": [
    {
     "data": {
      "text/plain": [
       "array([[1, 2, 7, 4],\n",
       "       [7, 9, 6, 6],\n",
       "       [9, 1, 1, 9],\n",
       "       [5, 9, 0, 1]])"
      ]
     },
     "execution_count": 78,
     "metadata": {},
     "output_type": "execute_result"
    }
   ],
   "source": [
    "np.concatenate((misal1,misal2), axis = 0 )"
   ]
  },
  {
   "cell_type": "code",
   "execution_count": 79,
   "metadata": {},
   "outputs": [
    {
     "name": "stdout",
     "output_type": "stream",
     "text": [
      "[[0 8 5 0]\n",
      " [5 6 3 9]]\n"
     ]
    }
   ],
   "source": [
    "misal3 = np.random.randint (0,10, size = (2,4))\n",
    "print(misal3)"
   ]
  },
  {
   "cell_type": "code",
   "execution_count": 80,
   "metadata": {},
   "outputs": [
    {
     "data": {
      "text/plain": [
       "array([[0, 5],\n",
       "       [8, 6],\n",
       "       [5, 3],\n",
       "       [0, 9]])"
      ]
     },
     "execution_count": 80,
     "metadata": {},
     "output_type": "execute_result"
    }
   ],
   "source": [
    "misal3.T"
   ]
  },
  {
   "cell_type": "code",
   "execution_count": 62,
   "metadata": {},
   "outputs": [
    {
     "name": "stdout",
     "output_type": "stream",
     "text": [
      "[[[35 40 13]\n",
      "  [43 49 11]\n",
      "  [38 16 20]\n",
      "  [ 4 24  4]\n",
      "  [ 5 18 34]]\n",
      "\n",
      " [[24 28  5]\n",
      "  [ 2 10 30]\n",
      "  [10 47 44]\n",
      "  [35 21 31]\n",
      "  [ 7 31 22]]\n",
      "\n",
      " [[41 32  0]\n",
      "  [42 29 33]\n",
      "  [20 30 16]\n",
      "  [ 7  6 14]\n",
      "  [46 29 41]]]\n"
     ]
    }
   ],
   "source": [
    "tess = np.random.randint(0, 50, size = (3,5,3))\n",
    "print(tess)"
   ]
  },
  {
   "cell_type": "code",
   "execution_count": 73,
   "metadata": {},
   "outputs": [
    {
     "data": {
      "text/plain": [
       "array([35, 40, 13, 43, 49, 11, 38, 16, 20, 24, 18, 34, 24, 28, 30, 47, 44,\n",
       "       35, 21, 31, 31, 22, 41, 32, 42, 29, 33, 20, 30, 16, 14, 46, 29, 41])"
      ]
     },
     "execution_count": 73,
     "metadata": {},
     "output_type": "execute_result"
    }
   ],
   "source": [
    "tess[tess > 10]"
   ]
  },
  {
   "cell_type": "code",
   "execution_count": 82,
   "metadata": {},
   "outputs": [
    {
     "name": "stdout",
     "output_type": "stream",
     "text": [
      "[[[ 0  0  0]\n",
      "  [ 0  0  0]\n",
      "  [ 0  0  0]\n",
      "  [ 4  0  4]\n",
      "  [ 5  0  0]]\n",
      "\n",
      " [[ 0  0  5]\n",
      "  [ 2 10  0]\n",
      "  [10  0  0]\n",
      "  [ 0  0  0]\n",
      "  [ 7  0  0]]\n",
      "\n",
      " [[ 0  0  0]\n",
      "  [ 0  0  0]\n",
      "  [ 0  0  0]\n",
      "  [ 7  6  0]\n",
      "  [ 0  0  0]]]\n"
     ]
    }
   ],
   "source": [
    "tess[tess > 10] = 0\n",
    "print (tess)"
   ]
  },
  {
   "cell_type": "code",
   "execution_count": 3,
   "metadata": {},
   "outputs": [
    {
     "name": "stdout",
     "output_type": "stream",
     "text": [
      "[[9 3]\n",
      " [9 0]\n",
      " [0 2]]\n"
     ]
    }
   ],
   "source": [
    "tes3 = np.random.randint(0, 10, size = (3, 2))\n",
    "print(tes3)"
   ]
  },
  {
   "cell_type": "code",
   "execution_count": 4,
   "metadata": {},
   "outputs": [
    {
     "name": "stdout",
     "output_type": "stream",
     "text": [
      "[[7 1 5]\n",
      " [0 5 7]]\n"
     ]
    }
   ],
   "source": [
    "tes3b = np.random.randint(0, 10, size = (2, 3))\n",
    "print(tes3b)"
   ]
  },
  {
   "cell_type": "code",
   "execution_count": 5,
   "metadata": {},
   "outputs": [
    {
     "data": {
      "text/plain": [
       "array([[9, 3, 7, 0],\n",
       "       [9, 0, 1, 5],\n",
       "       [0, 2, 5, 7]])"
      ]
     },
     "execution_count": 5,
     "metadata": {},
     "output_type": "execute_result"
    }
   ],
   "source": [
    "np.concatenate((tes3,(tes3b.T)), axis = 1)"
   ]
  }
 ],
 "metadata": {
  "kernelspec": {
   "display_name": "env",
   "language": "python",
   "name": "python3"
  },
  "language_info": {
   "codemirror_mode": {
    "name": "ipython",
    "version": 3
   },
   "file_extension": ".py",
   "mimetype": "text/x-python",
   "name": "python",
   "nbconvert_exporter": "python",
   "pygments_lexer": "ipython3",
   "version": "3.11.2"
  },
  "orig_nbformat": 4
 },
 "nbformat": 4,
 "nbformat_minor": 2
}
